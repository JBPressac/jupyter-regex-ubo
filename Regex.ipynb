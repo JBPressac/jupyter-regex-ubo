{
 "cells": [
  {
   "cell_type": "markdown",
   "metadata": {},
   "source": [
    "# Utilisation des set ou classes de caractères"
   ]
  },
  {
   "cell_type": "markdown",
   "metadata": {},
   "source": [
    "### Les set ou classes de caractères s'écrivent entre crochets. Par exemple [pm]ot permet de récupérer mot et pot."
   ]
  },
  {
   "cell_type": "code",
   "execution_count": 52,
   "metadata": {},
   "outputs": [],
   "source": [
    "texte <- \"Je met des mots dans un pot.\""
   ]
  },
  {
   "cell_type": "code",
   "execution_count": 53,
   "metadata": {},
   "outputs": [],
   "source": [
    "regex <- \"[mp]ot\""
   ]
  },
  {
   "cell_type": "code",
   "execution_count": 54,
   "metadata": {},
   "outputs": [
    {
     "name": "stdout",
     "output_type": "stream",
     "text": [
      "[1] \"Je met des mots dans un pot.\"\n"
     ]
    }
   ],
   "source": [
    "print(texte)"
   ]
  },
  {
   "cell_type": "code",
   "execution_count": 55,
   "metadata": {},
   "outputs": [
    {
     "name": "stdout",
     "output_type": "stream",
     "text": [
      "[1] \"[mp]ot\"\n"
     ]
    }
   ],
   "source": [
    "print(regex)"
   ]
  },
  {
   "cell_type": "code",
   "execution_count": 56,
   "metadata": {},
   "outputs": [
    {
     "data": {
      "text/html": [
       "<ol>\n",
       "\t<li><ol class=list-inline>\n",
       "\t<li>'mot'</li>\n",
       "\t<li>'pot'</li>\n",
       "</ol>\n",
       "</li>\n",
       "</ol>\n"
      ],
      "text/latex": [
       "\\begin{enumerate}\n",
       "\\item \\begin{enumerate*}\n",
       "\\item 'mot'\n",
       "\\item 'pot'\n",
       "\\end{enumerate*}\n",
       "\n",
       "\\end{enumerate}\n"
      ],
      "text/markdown": [
       "1. 1. 'mot'\n",
       "2. 'pot'\n",
       "\n",
       "\n",
       "\n",
       "\n",
       "\n"
      ],
      "text/plain": [
       "[[1]]\n",
       "[1] \"mot\" \"pot\"\n"
      ]
     },
     "metadata": {},
     "output_type": "display_data"
    }
   ],
   "source": [
    "regmatches(texte, gregexpr(regex, texte))"
   ]
  },
  {
   "cell_type": "markdown",
   "metadata": {},
   "source": [
    "### 18[5-9][0-9] permet de récupérer des années comprises entre 1850 et 1899. Attention regex ne les considère pas comme des années mais comme des suites de chiffres. 18 c'est une expression régulière : commencer par : Je veux extraire 18."
   ]
  },
  {
   "cell_type": "code",
   "execution_count": 57,
   "metadata": {},
   "outputs": [],
   "source": [
    "texte <- \"1856 1596 1459 1523 2012 1986 1812 1865 1569 1256 2001 1896 1916 18 1818 2018\""
   ]
  },
  {
   "cell_type": "code",
   "execution_count": 58,
   "metadata": {},
   "outputs": [],
   "source": [
    "regex <- \"18[0-9][0-9]\""
   ]
  },
  {
   "cell_type": "code",
   "execution_count": 59,
   "metadata": {},
   "outputs": [
    {
     "name": "stdout",
     "output_type": "stream",
     "text": [
      "[1] \"1856 1596 1459 1523 2012 1986 1812 1865 1569 1256 2001 1896 1916 18 1818 2018\"\n"
     ]
    }
   ],
   "source": [
    "print(texte)"
   ]
  },
  {
   "cell_type": "code",
   "execution_count": 60,
   "metadata": {},
   "outputs": [
    {
     "name": "stdout",
     "output_type": "stream",
     "text": [
      "[1] \"18[0-9][0-9]\"\n"
     ]
    }
   ],
   "source": [
    "print(regex)"
   ]
  },
  {
   "cell_type": "code",
   "execution_count": 61,
   "metadata": {},
   "outputs": [
    {
     "data": {
      "text/html": [
       "<ol>\n",
       "\t<li><ol class=list-inline>\n",
       "\t<li>'1856'</li>\n",
       "\t<li>'1812'</li>\n",
       "\t<li>'1865'</li>\n",
       "\t<li>'1896'</li>\n",
       "\t<li>'1818'</li>\n",
       "</ol>\n",
       "</li>\n",
       "</ol>\n"
      ],
      "text/latex": [
       "\\begin{enumerate}\n",
       "\\item \\begin{enumerate*}\n",
       "\\item '1856'\n",
       "\\item '1812'\n",
       "\\item '1865'\n",
       "\\item '1896'\n",
       "\\item '1818'\n",
       "\\end{enumerate*}\n",
       "\n",
       "\\end{enumerate}\n"
      ],
      "text/markdown": [
       "1. 1. '1856'\n",
       "2. '1812'\n",
       "3. '1865'\n",
       "4. '1896'\n",
       "5. '1818'\n",
       "\n",
       "\n",
       "\n",
       "\n",
       "\n"
      ],
      "text/plain": [
       "[[1]]\n",
       "[1] \"1856\" \"1812\" \"1865\" \"1896\" \"1818\"\n"
      ]
     },
     "metadata": {},
     "output_type": "display_data"
    }
   ],
   "source": [
    "regmatches(texte, gregexpr(regex, texte))"
   ]
  },
  {
   "cell_type": "markdown",
   "metadata": {},
   "source": [
    "### Comme vu dans l'exemple précédent,  le tiret permet de spécifier une plage de caractères. ça marche aussi avec les lettres de l'alphabet [a-z] pour les lettres minuscules de a à z. Il est sensible à la casse (majuscule, minuscules)."
   ]
  },
  {
   "cell_type": "code",
   "execution_count": 62,
   "metadata": {},
   "outputs": [],
   "source": [
    "texte <- \"M. Jean Tartenpion 20 rue des Mimosas 29200 Brest.\""
   ]
  },
  {
   "cell_type": "code",
   "execution_count": 63,
   "metadata": {},
   "outputs": [],
   "source": [
    "regex <- \"[a-z]\""
   ]
  },
  {
   "cell_type": "code",
   "execution_count": 64,
   "metadata": {},
   "outputs": [
    {
     "name": "stdout",
     "output_type": "stream",
     "text": [
      "[1] \"M. Jean Tartenpion 20 rue des Mimosas 2900 Brest.\"\n"
     ]
    }
   ],
   "source": [
    "print(texte)"
   ]
  },
  {
   "cell_type": "code",
   "execution_count": 65,
   "metadata": {},
   "outputs": [
    {
     "name": "stdout",
     "output_type": "stream",
     "text": [
      "[1] \"[a-zA-Z]\"\n"
     ]
    }
   ],
   "source": [
    "print(regex)"
   ]
  },
  {
   "cell_type": "code",
   "execution_count": 66,
   "metadata": {},
   "outputs": [
    {
     "data": {
      "text/html": [
       "<ol>\n",
       "\t<li><ol class=list-inline>\n",
       "\t<li>'M'</li>\n",
       "\t<li>'J'</li>\n",
       "\t<li>'e'</li>\n",
       "\t<li>'a'</li>\n",
       "\t<li>'n'</li>\n",
       "\t<li>'T'</li>\n",
       "\t<li>'a'</li>\n",
       "\t<li>'r'</li>\n",
       "\t<li>'t'</li>\n",
       "\t<li>'e'</li>\n",
       "\t<li>'n'</li>\n",
       "\t<li>'p'</li>\n",
       "\t<li>'i'</li>\n",
       "\t<li>'o'</li>\n",
       "\t<li>'n'</li>\n",
       "\t<li>'r'</li>\n",
       "\t<li>'u'</li>\n",
       "\t<li>'e'</li>\n",
       "\t<li>'d'</li>\n",
       "\t<li>'e'</li>\n",
       "\t<li>'s'</li>\n",
       "\t<li>'M'</li>\n",
       "\t<li>'i'</li>\n",
       "\t<li>'m'</li>\n",
       "\t<li>'o'</li>\n",
       "\t<li>'s'</li>\n",
       "\t<li>'a'</li>\n",
       "\t<li>'s'</li>\n",
       "\t<li>'B'</li>\n",
       "\t<li>'r'</li>\n",
       "\t<li>'e'</li>\n",
       "\t<li>'s'</li>\n",
       "\t<li>'t'</li>\n",
       "</ol>\n",
       "</li>\n",
       "</ol>\n"
      ],
      "text/latex": [
       "\\begin{enumerate}\n",
       "\\item \\begin{enumerate*}\n",
       "\\item 'M'\n",
       "\\item 'J'\n",
       "\\item 'e'\n",
       "\\item 'a'\n",
       "\\item 'n'\n",
       "\\item 'T'\n",
       "\\item 'a'\n",
       "\\item 'r'\n",
       "\\item 't'\n",
       "\\item 'e'\n",
       "\\item 'n'\n",
       "\\item 'p'\n",
       "\\item 'i'\n",
       "\\item 'o'\n",
       "\\item 'n'\n",
       "\\item 'r'\n",
       "\\item 'u'\n",
       "\\item 'e'\n",
       "\\item 'd'\n",
       "\\item 'e'\n",
       "\\item 's'\n",
       "\\item 'M'\n",
       "\\item 'i'\n",
       "\\item 'm'\n",
       "\\item 'o'\n",
       "\\item 's'\n",
       "\\item 'a'\n",
       "\\item 's'\n",
       "\\item 'B'\n",
       "\\item 'r'\n",
       "\\item 'e'\n",
       "\\item 's'\n",
       "\\item 't'\n",
       "\\end{enumerate*}\n",
       "\n",
       "\\end{enumerate}\n"
      ],
      "text/markdown": [
       "1. 1. 'M'\n",
       "2. 'J'\n",
       "3. 'e'\n",
       "4. 'a'\n",
       "5. 'n'\n",
       "6. 'T'\n",
       "7. 'a'\n",
       "8. 'r'\n",
       "9. 't'\n",
       "10. 'e'\n",
       "11. 'n'\n",
       "12. 'p'\n",
       "13. 'i'\n",
       "14. 'o'\n",
       "15. 'n'\n",
       "16. 'r'\n",
       "17. 'u'\n",
       "18. 'e'\n",
       "19. 'd'\n",
       "20. 'e'\n",
       "21. 's'\n",
       "22. 'M'\n",
       "23. 'i'\n",
       "24. 'm'\n",
       "25. 'o'\n",
       "26. 's'\n",
       "27. 'a'\n",
       "28. 's'\n",
       "29. 'B'\n",
       "30. 'r'\n",
       "31. 'e'\n",
       "32. 's'\n",
       "33. 't'\n",
       "\n",
       "\n",
       "\n",
       "\n",
       "\n"
      ],
      "text/plain": [
       "[[1]]\n",
       " [1] \"M\" \"J\" \"e\" \"a\" \"n\" \"T\" \"a\" \"r\" \"t\" \"e\" \"n\" \"p\" \"i\" \"o\" \"n\" \"r\" \"u\" \"e\" \"d\"\n",
       "[20] \"e\" \"s\" \"M\" \"i\" \"m\" \"o\" \"s\" \"a\" \"s\" \"B\" \"r\" \"e\" \"s\" \"t\"\n"
      ]
     },
     "metadata": {},
     "output_type": "display_data"
    }
   ],
   "source": [
    "regmatches(texte, gregexpr(regex, texte))"
   ]
  },
  {
   "cell_type": "code",
   "execution_count": null,
   "metadata": {},
   "outputs": [],
   "source": [
    "texte <- \"M. Jean Tartenpion 20 rue des Mimosas 29200 Brest.\""
   ]
  },
  {
   "cell_type": "code",
   "execution_count": null,
   "metadata": {},
   "outputs": [],
   "source": [
    "regex <- \"[a-zA-Z]\""
   ]
  },
  {
   "cell_type": "code",
   "execution_count": null,
   "metadata": {},
   "outputs": [],
   "source": [
    "print(texte)"
   ]
  },
  {
   "cell_type": "code",
   "execution_count": null,
   "metadata": {},
   "outputs": [],
   "source": [
    "print(regex)"
   ]
  },
  {
   "cell_type": "code",
   "execution_count": null,
   "metadata": {},
   "outputs": [],
   "source": [
    "regmatches(texte, gregexpr(regex, texte))"
   ]
  },
  {
   "cell_type": "markdown",
   "metadata": {},
   "source": [
    "### Attention, [a-zA-Z] ne signifie pas une lettre minuscule suivie d'une minuscule. L'ordre de ce qui est écrit entre les crochets n'est pas important, on aurait aussi pu écrire [A-Za-z]. Par contre, l'ordre de ce qui est entre crochet est important\n",
    "### Autre exemple avec [a-zA-Z] suivi d'un espace : on récupère la dernière lettre de chaque mot."
   ]
  },
  {
   "cell_type": "markdown",
   "metadata": {},
   "source": [
    "### On peut utiliser la négation avec ^ : [^0-9]"
   ]
  },
  {
   "cell_type": "code",
   "execution_count": 67,
   "metadata": {},
   "outputs": [],
   "source": [
    "texte <- \"M. Jean Tartenpion 20 rue des Mimosas 29200 Brest.\""
   ]
  },
  {
   "cell_type": "code",
   "execution_count": 68,
   "metadata": {},
   "outputs": [],
   "source": [
    "regex <- \"[^0-9]\""
   ]
  },
  {
   "cell_type": "code",
   "execution_count": 69,
   "metadata": {},
   "outputs": [
    {
     "name": "stdout",
     "output_type": "stream",
     "text": [
      "[1] \"M. Jean Tartenpion 20 rue des Mimosas 2900 Brest.\"\n"
     ]
    }
   ],
   "source": [
    "print(texte)"
   ]
  },
  {
   "cell_type": "code",
   "execution_count": 70,
   "metadata": {},
   "outputs": [
    {
     "name": "stdout",
     "output_type": "stream",
     "text": [
      "[1] \"[^0-9]\"\n"
     ]
    }
   ],
   "source": [
    "print(regex)"
   ]
  },
  {
   "cell_type": "code",
   "execution_count": 71,
   "metadata": {},
   "outputs": [
    {
     "data": {
      "text/html": [
       "<ol>\n",
       "\t<li><ol class=list-inline>\n",
       "\t<li>'M'</li>\n",
       "\t<li>'.'</li>\n",
       "\t<li>' '</li>\n",
       "\t<li>'J'</li>\n",
       "\t<li>'e'</li>\n",
       "\t<li>'a'</li>\n",
       "\t<li>'n'</li>\n",
       "\t<li>' '</li>\n",
       "\t<li>'T'</li>\n",
       "\t<li>'a'</li>\n",
       "\t<li>'r'</li>\n",
       "\t<li>'t'</li>\n",
       "\t<li>'e'</li>\n",
       "\t<li>'n'</li>\n",
       "\t<li>'p'</li>\n",
       "\t<li>'i'</li>\n",
       "\t<li>'o'</li>\n",
       "\t<li>'n'</li>\n",
       "\t<li>' '</li>\n",
       "\t<li>' '</li>\n",
       "\t<li>'r'</li>\n",
       "\t<li>'u'</li>\n",
       "\t<li>'e'</li>\n",
       "\t<li>' '</li>\n",
       "\t<li>'d'</li>\n",
       "\t<li>'e'</li>\n",
       "\t<li>'s'</li>\n",
       "\t<li>' '</li>\n",
       "\t<li>'M'</li>\n",
       "\t<li>'i'</li>\n",
       "\t<li>'m'</li>\n",
       "\t<li>'o'</li>\n",
       "\t<li>'s'</li>\n",
       "\t<li>'a'</li>\n",
       "\t<li>'s'</li>\n",
       "\t<li>' '</li>\n",
       "\t<li>' '</li>\n",
       "\t<li>'B'</li>\n",
       "\t<li>'r'</li>\n",
       "\t<li>'e'</li>\n",
       "\t<li>'s'</li>\n",
       "\t<li>'t'</li>\n",
       "\t<li>'.'</li>\n",
       "</ol>\n",
       "</li>\n",
       "</ol>\n"
      ],
      "text/latex": [
       "\\begin{enumerate}\n",
       "\\item \\begin{enumerate*}\n",
       "\\item 'M'\n",
       "\\item '.'\n",
       "\\item ' '\n",
       "\\item 'J'\n",
       "\\item 'e'\n",
       "\\item 'a'\n",
       "\\item 'n'\n",
       "\\item ' '\n",
       "\\item 'T'\n",
       "\\item 'a'\n",
       "\\item 'r'\n",
       "\\item 't'\n",
       "\\item 'e'\n",
       "\\item 'n'\n",
       "\\item 'p'\n",
       "\\item 'i'\n",
       "\\item 'o'\n",
       "\\item 'n'\n",
       "\\item ' '\n",
       "\\item ' '\n",
       "\\item 'r'\n",
       "\\item 'u'\n",
       "\\item 'e'\n",
       "\\item ' '\n",
       "\\item 'd'\n",
       "\\item 'e'\n",
       "\\item 's'\n",
       "\\item ' '\n",
       "\\item 'M'\n",
       "\\item 'i'\n",
       "\\item 'm'\n",
       "\\item 'o'\n",
       "\\item 's'\n",
       "\\item 'a'\n",
       "\\item 's'\n",
       "\\item ' '\n",
       "\\item ' '\n",
       "\\item 'B'\n",
       "\\item 'r'\n",
       "\\item 'e'\n",
       "\\item 's'\n",
       "\\item 't'\n",
       "\\item '.'\n",
       "\\end{enumerate*}\n",
       "\n",
       "\\end{enumerate}\n"
      ],
      "text/markdown": [
       "1. 1. 'M'\n",
       "2. '.'\n",
       "3. ' '\n",
       "4. 'J'\n",
       "5. 'e'\n",
       "6. 'a'\n",
       "7. 'n'\n",
       "8. ' '\n",
       "9. 'T'\n",
       "10. 'a'\n",
       "11. 'r'\n",
       "12. 't'\n",
       "13. 'e'\n",
       "14. 'n'\n",
       "15. 'p'\n",
       "16. 'i'\n",
       "17. 'o'\n",
       "18. 'n'\n",
       "19. ' '\n",
       "20. ' '\n",
       "21. 'r'\n",
       "22. 'u'\n",
       "23. 'e'\n",
       "24. ' '\n",
       "25. 'd'\n",
       "26. 'e'\n",
       "27. 's'\n",
       "28. ' '\n",
       "29. 'M'\n",
       "30. 'i'\n",
       "31. 'm'\n",
       "32. 'o'\n",
       "33. 's'\n",
       "34. 'a'\n",
       "35. 's'\n",
       "36. ' '\n",
       "37. ' '\n",
       "38. 'B'\n",
       "39. 'r'\n",
       "40. 'e'\n",
       "41. 's'\n",
       "42. 't'\n",
       "43. '.'\n",
       "\n",
       "\n",
       "\n",
       "\n",
       "\n"
      ],
      "text/plain": [
       "[[1]]\n",
       " [1] \"M\" \".\" \" \" \"J\" \"e\" \"a\" \"n\" \" \" \"T\" \"a\" \"r\" \"t\" \"e\" \"n\" \"p\" \"i\" \"o\" \"n\" \" \"\n",
       "[20] \" \" \"r\" \"u\" \"e\" \" \" \"d\" \"e\" \"s\" \" \" \"M\" \"i\" \"m\" \"o\" \"s\" \"a\" \"s\" \" \" \" \" \"B\"\n",
       "[39] \"r\" \"e\" \"s\" \"t\" \".\"\n"
      ]
     },
     "metadata": {},
     "output_type": "display_data"
    }
   ],
   "source": [
    "regmatches(texte, gregexpr(regex, texte))"
   ]
  },
  {
   "cell_type": "markdown",
   "metadata": {},
   "source": [
    "### Pour ne pas avoir les espaces : [^0-9 ]"
   ]
  },
  {
   "cell_type": "markdown",
   "metadata": {},
   "source": [
    "# Les caractères \"invisibles\""
   ]
  },
  {
   "cell_type": "markdown",
   "metadata": {},
   "source": [
    "### Un fichier Word, par exemple, contient de nombreux caractères invisibles : les espaces, les tabulations, les retours à la ligne. Dans les langages de programmation comme le C, Python ces caractères s'écrivent de la façon suivante :"
   ]
  },
  {
   "cell_type": "markdown",
   "metadata": {},
   "source": [
    "```\n",
    "\\t  tabulation\n",
    "\\s  espace\n",
    "\\n (line feed) ou \\r (carriage return)  retour à la ligne\n",
    "```"
   ]
  },
  {
   "cell_type": "markdown",
   "metadata": {},
   "source": [
    "### Sans le \\n"
   ]
  },
  {
   "cell_type": "code",
   "execution_count": 6,
   "metadata": {},
   "outputs": [],
   "source": [
    "texte <- \"20 rue des Mimosas\n",
    "36 allée des Mimosas fleuris\n",
    "56 avenue des Acacias\""
   ]
  },
  {
   "cell_type": "code",
   "execution_count": 7,
   "metadata": {},
   "outputs": [],
   "source": [
    "regex <- \"Mimosas\""
   ]
  },
  {
   "cell_type": "code",
   "execution_count": 8,
   "metadata": {},
   "outputs": [
    {
     "name": "stdout",
     "output_type": "stream",
     "text": [
      "[1] \"20 rue des Mimosas\\n36 allée des Mimosas fleuris\\n56 avenue des Acacias\"\n"
     ]
    }
   ],
   "source": [
    "print(texte)"
   ]
  },
  {
   "cell_type": "code",
   "execution_count": 9,
   "metadata": {},
   "outputs": [
    {
     "name": "stdout",
     "output_type": "stream",
     "text": [
      "[1] \"Mimosas\"\n"
     ]
    }
   ],
   "source": [
    "print(regex)"
   ]
  },
  {
   "cell_type": "code",
   "execution_count": 10,
   "metadata": {},
   "outputs": [
    {
     "data": {
      "text/html": [
       "<ol>\n",
       "\t<li><ol class=list-inline>\n",
       "\t<li>'Mimosas'</li>\n",
       "\t<li>'Mimosas'</li>\n",
       "</ol>\n",
       "</li>\n",
       "</ol>\n"
      ],
      "text/latex": [
       "\\begin{enumerate}\n",
       "\\item \\begin{enumerate*}\n",
       "\\item 'Mimosas'\n",
       "\\item 'Mimosas'\n",
       "\\end{enumerate*}\n",
       "\n",
       "\\end{enumerate}\n"
      ],
      "text/markdown": [
       "1. 1. 'Mimosas'\n",
       "2. 'Mimosas'\n",
       "\n",
       "\n",
       "\n",
       "\n",
       "\n"
      ],
      "text/plain": [
       "[[1]]\n",
       "[1] \"Mimosas\" \"Mimosas\"\n"
      ]
     },
     "metadata": {},
     "output_type": "display_data"
    }
   ],
   "source": [
    "regmatches(texte, gregexpr(regex, texte))"
   ]
  },
  {
   "cell_type": "markdown",
   "metadata": {},
   "source": [
    "### Avec le \\n"
   ]
  },
  {
   "cell_type": "code",
   "execution_count": 77,
   "metadata": {},
   "outputs": [],
   "source": [
    "texte <- \"20 rue des Mimosas\n",
    "36 allée des Mimosas fleuris\n",
    "56 avenue des Acacias\n",
    "15 rue des Mimosas\n",
    "\""
   ]
  },
  {
   "cell_type": "code",
   "execution_count": 78,
   "metadata": {},
   "outputs": [],
   "source": [
    "regex <- \"Mimosas\\\\n\""
   ]
  },
  {
   "cell_type": "code",
   "execution_count": 79,
   "metadata": {},
   "outputs": [
    {
     "name": "stdout",
     "output_type": "stream",
     "text": [
      "[1] \"20 rue des Mimosas\\n36 allée des Mimosas fleuris\\n56 avenue des Acacias\\n15 rue des Mimosas\\n\"\n"
     ]
    }
   ],
   "source": [
    "print(texte)"
   ]
  },
  {
   "cell_type": "code",
   "execution_count": 80,
   "metadata": {},
   "outputs": [
    {
     "name": "stdout",
     "output_type": "stream",
     "text": [
      "[1] \"Mimosas\\\\n\"\n"
     ]
    }
   ],
   "source": [
    "print(regex)"
   ]
  },
  {
   "cell_type": "code",
   "execution_count": 81,
   "metadata": {},
   "outputs": [
    {
     "data": {
      "text/html": [
       "<ol>\n",
       "\t<li><ol class=list-inline>\n",
       "\t<li>'Mimosas\\n'</li>\n",
       "\t<li>'Mimosas\\n'</li>\n",
       "</ol>\n",
       "</li>\n",
       "</ol>\n"
      ],
      "text/latex": [
       "\\begin{enumerate}\n",
       "\\item \\begin{enumerate*}\n",
       "\\item 'Mimosas\\textbackslash{}n'\n",
       "\\item 'Mimosas\\textbackslash{}n'\n",
       "\\end{enumerate*}\n",
       "\n",
       "\\end{enumerate}\n"
      ],
      "text/markdown": [
       "1. 1. 'Mimosas\\n'\n",
       "2. 'Mimosas\\n'\n",
       "\n",
       "\n",
       "\n",
       "\n",
       "\n"
      ],
      "text/plain": [
       "[[1]]\n",
       "[1] \"Mimosas\\n\" \"Mimosas\\n\"\n"
      ]
     },
     "metadata": {},
     "output_type": "display_data"
    }
   ],
   "source": [
    "regmatches(texte, gregexpr(regex, texte))"
   ]
  },
  {
   "cell_type": "markdown",
   "metadata": {},
   "source": [
    "# Les classes de caractères prédéfinies"
   ]
  },
  {
   "cell_type": "markdown",
   "metadata": {},
   "source": [
    "```\n",
    "\\d  [0-9]\n",
    "\\D  [^0-9]\n",
    "\\w  [a-zA-Z0-9_]\n",
    "\\W  [^a-zA-Z0-9_]\n",
    "\\t  Tabulation\n",
    "\\n  Saut de ligne\n",
    "\\r  Retour chariot\n",
    "\\s  Espace blanc (correspond à \\t\\n\\r)\n",
    "\\S  N'est PAS un espace blanc (\\t\\n\\r)\n",
    ".   Tous les caractères sauf le retour à la ligne\n",
    "```"
   ]
  },
  {
   "cell_type": "markdown",
   "metadata": {},
   "source": [
    "# Les alternatives"
   ]
  },
  {
   "cell_type": "markdown",
   "metadata": {},
   "source": [
    "### vanille|carotte"
   ]
  },
  {
   "cell_type": "code",
   "execution_count": 1,
   "metadata": {},
   "outputs": [],
   "source": [
    "texte <- \"Gâteau au chocolat\n",
    "Glace à la vanille\n",
    "Glace aux épinards\n",
    "Glace au chocolat\n",
    "Gâteau à la carotte\n",
    "Glace à la carotte\n",
    "Crême à la vanille\n",
    "Crême aux épinards\n",
    "Gâteau à la vanille\""
   ]
  },
  {
   "cell_type": "code",
   "execution_count": 2,
   "metadata": {},
   "outputs": [],
   "source": [
    "regex <- \"vanille|carotte\""
   ]
  },
  {
   "cell_type": "code",
   "execution_count": 3,
   "metadata": {},
   "outputs": [
    {
     "name": "stdout",
     "output_type": "stream",
     "text": [
      "[1] \"Gâteau au chocolat\\nGlace à la vanille\\nGlace aux épinards\\nGlace au chocolat\\nGâteau à la carotte\\nGlace à la carotte\\nCrême à la vanille\\nCrême aux épinards\\nGâteau à la vanille\"\n"
     ]
    }
   ],
   "source": [
    "print(texte)"
   ]
  },
  {
   "cell_type": "code",
   "execution_count": 4,
   "metadata": {},
   "outputs": [
    {
     "name": "stdout",
     "output_type": "stream",
     "text": [
      "[1] \"vanille|carotte\"\n"
     ]
    }
   ],
   "source": [
    "print(regex)"
   ]
  },
  {
   "cell_type": "code",
   "execution_count": 5,
   "metadata": {},
   "outputs": [
    {
     "data": {
      "text/html": [
       "<ol>\n",
       "\t<li><ol class=list-inline>\n",
       "\t<li>'vanille'</li>\n",
       "\t<li>'carotte'</li>\n",
       "\t<li>'carotte'</li>\n",
       "\t<li>'vanille'</li>\n",
       "\t<li>'vanille'</li>\n",
       "</ol>\n",
       "</li>\n",
       "</ol>\n"
      ],
      "text/latex": [
       "\\begin{enumerate}\n",
       "\\item \\begin{enumerate*}\n",
       "\\item 'vanille'\n",
       "\\item 'carotte'\n",
       "\\item 'carotte'\n",
       "\\item 'vanille'\n",
       "\\item 'vanille'\n",
       "\\end{enumerate*}\n",
       "\n",
       "\\end{enumerate}\n"
      ],
      "text/markdown": [
       "1. 1. 'vanille'\n",
       "2. 'carotte'\n",
       "3. 'carotte'\n",
       "4. 'vanille'\n",
       "5. 'vanille'\n",
       "\n",
       "\n",
       "\n",
       "\n",
       "\n"
      ],
      "text/plain": [
       "[[1]]\n",
       "[1] \"vanille\" \"carotte\" \"carotte\" \"vanille\" \"vanille\"\n"
      ]
     },
     "metadata": {},
     "output_type": "display_data"
    }
   ],
   "source": [
    "regmatches(texte, gregexpr(regex, texte))"
   ]
  },
  {
   "cell_type": "markdown",
   "metadata": {},
   "source": [
    "### Gâteau à la vanille|carotte"
   ]
  },
  {
   "cell_type": "code",
   "execution_count": 11,
   "metadata": {},
   "outputs": [],
   "source": [
    "texte <- \"Gâteau au chocolat\n",
    "Glace à la vanille\n",
    "Glace aux épinards\n",
    "Glace au chocolat\n",
    "Gâteau à la carotte\n",
    "Glace à la carotte\n",
    "Crême à la vanille\n",
    "Crême aux épinards\n",
    "Gâteau à la vanille\""
   ]
  },
  {
   "cell_type": "code",
   "execution_count": 12,
   "metadata": {},
   "outputs": [],
   "source": [
    "regex <- \"Gâteau à la vanille|carotte\""
   ]
  },
  {
   "cell_type": "code",
   "execution_count": 13,
   "metadata": {},
   "outputs": [
    {
     "name": "stdout",
     "output_type": "stream",
     "text": [
      "[1] \"Gâteau au chocolat\\nGlace à la vanille\\nGlace aux épinards\\nGlace au chocolat\\nGâteau à la carotte\\nGlace à la carotte\\nCrême à la vanille\\nCrême aux épinards\\nGâteau à la vanille\"\n"
     ]
    }
   ],
   "source": [
    "print(texte)"
   ]
  },
  {
   "cell_type": "code",
   "execution_count": 14,
   "metadata": {},
   "outputs": [
    {
     "name": "stdout",
     "output_type": "stream",
     "text": [
      "[1] \"Gâteau à la vanille|carotte\"\n"
     ]
    }
   ],
   "source": [
    "print(regex)"
   ]
  },
  {
   "cell_type": "code",
   "execution_count": 15,
   "metadata": {},
   "outputs": [
    {
     "data": {
      "text/html": [
       "<ol>\n",
       "\t<li><ol class=list-inline>\n",
       "\t<li>'carotte'</li>\n",
       "\t<li>'carotte'</li>\n",
       "\t<li>'Gâteau à la vanille'</li>\n",
       "</ol>\n",
       "</li>\n",
       "</ol>\n"
      ],
      "text/latex": [
       "\\begin{enumerate}\n",
       "\\item \\begin{enumerate*}\n",
       "\\item 'carotte'\n",
       "\\item 'carotte'\n",
       "\\item 'Gâteau à la vanille'\n",
       "\\end{enumerate*}\n",
       "\n",
       "\\end{enumerate}\n"
      ],
      "text/markdown": [
       "1. 1. 'carotte'\n",
       "2. 'carotte'\n",
       "3. 'Gâteau à la vanille'\n",
       "\n",
       "\n",
       "\n",
       "\n",
       "\n"
      ],
      "text/plain": [
       "[[1]]\n",
       "[1] \"carotte\"             \"carotte\"             \"Gâteau à la vanille\"\n"
      ]
     },
     "metadata": {},
     "output_type": "display_data"
    }
   ],
   "source": [
    "regmatches(texte, gregexpr(regex, texte))"
   ]
  },
  {
   "cell_type": "markdown",
   "metadata": {},
   "source": [
    "### Gâteau à la (vanille|carotte)"
   ]
  },
  {
   "cell_type": "code",
   "execution_count": 16,
   "metadata": {},
   "outputs": [],
   "source": [
    "texte <- \"Gâteau au chocolat\n",
    "Glace à la vanille\n",
    "Glace aux épinards\n",
    "Glace au chocolat\n",
    "Gâteau à la carotte\n",
    "Glace à la carotte\n",
    "Crême à la vanille\n",
    "Crême aux épinards\n",
    "Gâteau à la vanille\""
   ]
  },
  {
   "cell_type": "code",
   "execution_count": 17,
   "metadata": {},
   "outputs": [],
   "source": [
    "regex <- \"Gâteau à la (vanille|carotte)\""
   ]
  },
  {
   "cell_type": "code",
   "execution_count": 18,
   "metadata": {},
   "outputs": [
    {
     "name": "stdout",
     "output_type": "stream",
     "text": [
      "[1] \"Gâteau au chocolat\\nGlace à la vanille\\nGlace aux épinards\\nGlace au chocolat\\nGâteau à la carotte\\nGlace à la carotte\\nCrême à la vanille\\nCrême aux épinards\\nGâteau à la vanille\"\n"
     ]
    }
   ],
   "source": [
    "print(texte)"
   ]
  },
  {
   "cell_type": "code",
   "execution_count": 19,
   "metadata": {},
   "outputs": [
    {
     "name": "stdout",
     "output_type": "stream",
     "text": [
      "[1] \"Gâteau à la (vanille|carotte)\"\n"
     ]
    }
   ],
   "source": [
    "print(regex)"
   ]
  },
  {
   "cell_type": "code",
   "execution_count": 20,
   "metadata": {},
   "outputs": [
    {
     "data": {
      "text/html": [
       "<ol>\n",
       "\t<li><ol class=list-inline>\n",
       "\t<li>'Gâteau à la carotte'</li>\n",
       "\t<li>'Gâteau à la vanille'</li>\n",
       "</ol>\n",
       "</li>\n",
       "</ol>\n"
      ],
      "text/latex": [
       "\\begin{enumerate}\n",
       "\\item \\begin{enumerate*}\n",
       "\\item 'Gâteau à la carotte'\n",
       "\\item 'Gâteau à la vanille'\n",
       "\\end{enumerate*}\n",
       "\n",
       "\\end{enumerate}\n"
      ],
      "text/markdown": [
       "1. 1. 'Gâteau à la carotte'\n",
       "2. 'Gâteau à la vanille'\n",
       "\n",
       "\n",
       "\n",
       "\n",
       "\n"
      ],
      "text/plain": [
       "[[1]]\n",
       "[1] \"Gâteau à la carotte\" \"Gâteau à la vanille\"\n"
      ]
     },
     "metadata": {},
     "output_type": "display_data"
    }
   ],
   "source": [
    "regmatches(texte, gregexpr(regex, texte))"
   ]
  },
  {
   "cell_type": "markdown",
   "metadata": {},
   "source": [
    "# Les quantificateurs"
   ]
  },
  {
   "cell_type": "markdown",
   "metadata": {},
   "source": [
    "```\n",
    "? : le  caractère précédant le quantificateur ? est optionnel (caractère absent ou présent une seule fois)\n",
    "* : le caractère précédant le quantificateur * est absent ou répété plusieurs fois\n",
    "+ : le caractère précédant le quantificateur est présent une ou plusieurs fois\n",
    "{5} : le caractère précédant le quantificateur est répété 5 fois\n",
    "{2,6} : le caractère précédant le quantificateur est répété entre 2 et 6 fois\n",
    "{,7} : le caractère précédant le quantificateur est absent ou répété entre une et 7 fois. {,1} est équivalent à ?\n",
    "{3,} : le caractère précédant le quantificateur est absent ou répété entre 3 et un nombre infini de fois. {0,} est équivalent à *. {1,} est équivalent à +.\n",
    "```"
   ]
  },
  {
   "cell_type": "markdown",
   "metadata": {},
   "source": [
    "### Dans l'exemple sur les adresses, comment supprimer le point : on cherche le point plutôt que ce qui le précède.\n",
    "\n",
    "### \"Les chemins les plus courts sont souvent les moins longs.\""
   ]
  },
  {
   "cell_type": "markdown",
   "metadata": {},
   "source": [
    "### (vanille|carottes?)"
   ]
  },
  {
   "cell_type": "code",
   "execution_count": 22,
   "metadata": {},
   "outputs": [],
   "source": [
    "texte <- \"Gâteau au chocolat\n",
    "Glace à la vanille\n",
    "Glace aux épinards\n",
    "Glace au chocolatRécupérer des numéros de téléphones :\n",
    "Gâteau à la carotte\n",
    "Glace à la carotte\n",
    "Crême à la vanille\n",
    "Crême aux épinards\n",
    "Gâteau à la vanille\n",
    "Gâteau aux carottes\n",
    "Glace aux carottes\""
   ]
  },
  {
   "cell_type": "code",
   "execution_count": 23,
   "metadata": {},
   "outputs": [],
   "source": [
    "regex <- \"(vanille|carottes?)\""
   ]
  },
  {
   "cell_type": "code",
   "execution_count": 24,
   "metadata": {},
   "outputs": [
    {
     "name": "stdout",
     "output_type": "stream",
     "text": [
      "[1] \"Gâteau au chocolat\\nGlace à la vanille\\nGlace aux épinards\\nGlace au chocolat\\nGâteau à la carotte\\nGlace à la carotte\\nCrême à la vanille\\nCrême aux épinards\\nGâteau à la vanille\\nGâteau aux carottes\\nGlace aux carottes\"\n"
     ]
    }
   ],
   "source": [
    "print(texte)"
   ]
  },
  {
   "cell_type": "code",
   "execution_count": 25,
   "metadata": {},
   "outputs": [
    {
     "name": "stdout",
     "output_type": "stream",
     "text": [
      "[1] \"(vanille|carottes?)\"\n"
     ]
    }
   ],
   "source": [
    "print(regex)"
   ]
  },
  {
   "cell_type": "code",
   "execution_count": 26,
   "metadata": {},
   "outputs": [
    {
     "data": {
      "text/html": [
       "<ol>\n",
       "\t<li><ol class=list-inline>\n",
       "\t<li>'vanille'</li>\n",
       "\t<li>'carotte'</li>\n",
       "\t<li>'carotte'</li>\n",
       "\t<li>'vanille'</li>\n",
       "\t<li>'vanille'</li>\n",
       "\t<li>'carottes'</li>\n",
       "\t<li>'carottes'</li>\n",
       "</ol>\n",
       "</li>\n",
       "</ol>\n"
      ],
      "text/latex": [
       "\\begin{enumerate}\n",
       "\\item \\begin{enumerate*}\n",
       "\\item 'vanille'\n",
       "\\item 'carotte'\n",
       "\\item 'carotte'\n",
       "\\item 'vanille'\n",
       "\\item 'vanille'\n",
       "\\item 'carottes'\n",
       "\\item 'carottes'\n",
       "\\end{enumerate*}\n",
       "\n",
       "\\end{enumerate}\n"
      ],
      "text/markdown": [
       "1. 1. 'vanille'\n",
       "2. 'carotte'\n",
       "3. 'carotte'\n",
       "4. 'vanille'\n",
       "5. 'vanille'\n",
       "6. 'carottes'\n",
       "7. 'carottes'\n",
       "\n",
       "\n",
       "\n",
       "\n",
       "\n"
      ],
      "text/plain": [
       "[[1]]\n",
       "[1] \"vanille\"  \"carotte\"  \"carotte\"  \"vanille\"  \"vanille\"  \"carottes\" \"carottes\"\n"
      ]
     },
     "metadata": {},
     "output_type": "display_data"
    }
   ],
   "source": [
    "regmatches(texte, gregexpr(regex, texte))"
   ]
  },
  {
   "cell_type": "markdown",
   "metadata": {},
   "source": [
    "### Récupérer des numéros de téléphones"
   ]
  },
  {
   "cell_type": "code",
   "execution_count": 141,
   "metadata": {},
   "outputs": [],
   "source": [
    "texte <- \"Son téléphone était le 02 98 36 56 98 mais il mangeait des carottes.\n",
    "'Appelle moi au 02 98 14 89 41', dit-elle en raccrochant.\n",
    "Docteur Knock : 02-98-14-89-99\n",
    "Le numéro 02-98-55-98-33 n'existe pas.\n",
    "Jean Duchmoll, Paris, 0298236644, 25 ans, marié deux enfants\""
   ]
  },
  {
   "cell_type": "code",
   "execution_count": 142,
   "metadata": {},
   "outputs": [],
   "source": [
    "regex <- \"\\\\d{2}[-\\\\s]?\\\\d{2}[-\\\\s]?\\\\d{2}[-\\\\s]?\\\\d{2}[-\\\\s]?\\\\d{2}\""
   ]
  },
  {
   "cell_type": "code",
   "execution_count": 143,
   "metadata": {},
   "outputs": [
    {
     "name": "stdout",
     "output_type": "stream",
     "text": [
      "[1] \"Son téléphone était le 02 98 36 56 98 mais il mangeait des carottes.\\n'Appelle moi au 02 98 14 89 41', dit-elle en raccrochant.\\nDocteur Knock : 02-98-14-89-99\\nLe numéro 02-98-55-98-33 n'existe pas.\\nJean Duchmoll, Paris, 0298236644, 25 ans, marié deux enfants\"\n"
     ]
    }
   ],
   "source": [
    "print(texte)"
   ]
  },
  {
   "cell_type": "code",
   "execution_count": 144,
   "metadata": {},
   "outputs": [
    {
     "name": "stdout",
     "output_type": "stream",
     "text": [
      "[1] \"\\\\d{2}[-\\\\s]?\\\\d{2}[-\\\\s]?\\\\d{2}[-\\\\s]?\\\\d{2}[-\\\\s]?\\\\d{2}\"\n"
     ]
    }
   ],
   "source": [
    "print(regex)"
   ]
  },
  {
   "cell_type": "code",
   "execution_count": 145,
   "metadata": {},
   "outputs": [
    {
     "data": {
      "text/html": [
       "<ol>\n",
       "\t<li><ol class=list-inline>\n",
       "\t<li>'02 98 36 56 98'</li>\n",
       "\t<li>'02 98 14 89 41'</li>\n",
       "\t<li>'02-98-14-89-99'</li>\n",
       "\t<li>'02-98-55-98-33'</li>\n",
       "\t<li>'0298236644'</li>\n",
       "</ol>\n",
       "</li>\n",
       "</ol>\n"
      ],
      "text/latex": [
       "\\begin{enumerate}\n",
       "\\item \\begin{enumerate*}\n",
       "\\item '02 98 36 56 98'\n",
       "\\item '02 98 14 89 41'\n",
       "\\item '02-98-14-89-99'\n",
       "\\item '02-98-55-98-33'\n",
       "\\item '0298236644'\n",
       "\\end{enumerate*}\n",
       "\n",
       "\\end{enumerate}\n"
      ],
      "text/markdown": [
       "1. 1. '02 98 36 56 98'\n",
       "2. '02 98 14 89 41'\n",
       "3. '02-98-14-89-99'\n",
       "4. '02-98-55-98-33'\n",
       "5. '0298236644'\n",
       "\n",
       "\n",
       "\n",
       "\n",
       "\n"
      ],
      "text/plain": [
       "[[1]]\n",
       "[1] \"02 98 36 56 98\" \"02 98 14 89 41\" \"02-98-14-89-99\" \"02-98-55-98-33\"\n",
       "[5] \"0298236644\"    \n"
      ]
     },
     "metadata": {},
     "output_type": "display_data"
    }
   ],
   "source": [
    "regmatches(texte, gregexpr(regex, texte, perl = TRUE))"
   ]
  },
  {
   "cell_type": "markdown",
   "metadata": {},
   "source": [
    "### Ici, on met à la fois \" \" et \\\\s qui correspond à un espace blanc."
   ]
  },
  {
   "cell_type": "markdown",
   "metadata": {},
   "source": [
    "# Quantificateurs gloutons (greedy) et non-gloutons (reluctant)"
   ]
  },
  {
   "cell_type": "markdown",
   "metadata": {},
   "source": [
    "### Version gloutonne du quantificateur + pour récupérer du contenu entre parenthèses"
   ]
  },
  {
   "cell_type": "code",
   "execution_count": 52,
   "metadata": {},
   "outputs": [],
   "source": [
    "texte <- \"blagĩ v. (blag-) bavarder (français local ‘faire une partie de blague’).\""
   ]
  },
  {
   "cell_type": "code",
   "execution_count": 54,
   "metadata": {},
   "outputs": [],
   "source": [
    "regex <- \"\\\\(.+\\\\)\""
   ]
  },
  {
   "cell_type": "code",
   "execution_count": 55,
   "metadata": {},
   "outputs": [
    {
     "name": "stdout",
     "output_type": "stream",
     "text": [
      "[1] \"blagĩ v. (blag-) bavarder (français local ‘faire une partie de blague’).\"\n"
     ]
    }
   ],
   "source": [
    "print(texte)"
   ]
  },
  {
   "cell_type": "code",
   "execution_count": 56,
   "metadata": {},
   "outputs": [
    {
     "name": "stdout",
     "output_type": "stream",
     "text": [
      "[1] \"\\\\(.+\\\\)\"\n"
     ]
    }
   ],
   "source": [
    "print(regex)"
   ]
  },
  {
   "cell_type": "code",
   "execution_count": 57,
   "metadata": {},
   "outputs": [
    {
     "data": {
      "text/html": [
       "<ol>\n",
       "\t<li>'(blag-) bavarder (français local ‘faire une partie de blague’)'</li>\n",
       "</ol>\n"
      ],
      "text/latex": [
       "\\begin{enumerate}\n",
       "\\item '(blag-) bavarder (français local ‘faire une partie de blague’)'\n",
       "\\end{enumerate}\n"
      ],
      "text/markdown": [
       "1. '(blag-) bavarder (français local ‘faire une partie de blague’)'\n",
       "\n",
       "\n"
      ],
      "text/plain": [
       "[[1]]\n",
       "[1] \"(blag-) bavarder (français local ‘faire une partie de blague’)\"\n"
      ]
     },
     "metadata": {},
     "output_type": "display_data"
    }
   ],
   "source": [
    "regmatches(texte, gregexpr(regex, texte))"
   ]
  },
  {
   "cell_type": "markdown",
   "metadata": {},
   "source": [
    "# Version non gloutonne du quantificateur +"
   ]
  },
  {
   "cell_type": "code",
   "execution_count": 58,
   "metadata": {},
   "outputs": [],
   "source": [
    "texte <- \"blagĩ v. (blag-) bavarder (français local ‘faire une partie de blague’).\""
   ]
  },
  {
   "cell_type": "code",
   "execution_count": 59,
   "metadata": {},
   "outputs": [],
   "source": [
    "regex <- \"\\\\(.+?\\\\)\""
   ]
  },
  {
   "cell_type": "code",
   "execution_count": 60,
   "metadata": {},
   "outputs": [
    {
     "name": "stdout",
     "output_type": "stream",
     "text": [
      "[1] \"blagĩ v. (blag-) bavarder (français local ‘faire une partie de blague’).\"\n"
     ]
    }
   ],
   "source": [
    "print(texte)"
   ]
  },
  {
   "cell_type": "code",
   "execution_count": 61,
   "metadata": {},
   "outputs": [
    {
     "name": "stdout",
     "output_type": "stream",
     "text": [
      "[1] \"\\\\(.+?\\\\)\"\n"
     ]
    }
   ],
   "source": [
    "print(regex)"
   ]
  },
  {
   "cell_type": "code",
   "execution_count": 62,
   "metadata": {},
   "outputs": [
    {
     "data": {
      "text/html": [
       "<ol>\n",
       "\t<li><ol class=list-inline>\n",
       "\t<li>'(blag-)'</li>\n",
       "\t<li>'(français local ‘faire une partie de blague’)'</li>\n",
       "</ol>\n",
       "</li>\n",
       "</ol>\n"
      ],
      "text/latex": [
       "\\begin{enumerate}\n",
       "\\item \\begin{enumerate*}\n",
       "\\item '(blag-)'\n",
       "\\item '(français local ‘faire une partie de blague’)'\n",
       "\\end{enumerate*}\n",
       "\n",
       "\\end{enumerate}\n"
      ],
      "text/markdown": [
       "1. 1. '(blag-)'\n",
       "2. '(français local ‘faire une partie de blague’)'\n",
       "\n",
       "\n",
       "\n",
       "\n",
       "\n"
      ],
      "text/plain": [
       "[[1]]\n",
       "[1] \"(blag-)\"                                      \n",
       "[2] \"(français local ‘faire une partie de blague’)\"\n"
      ]
     },
     "metadata": {},
     "output_type": "display_data"
    }
   ],
   "source": [
    "regmatches(texte, gregexpr(regex, texte))"
   ]
  },
  {
   "cell_type": "markdown",
   "metadata": {},
   "source": [
    "# Délimiteurs (boundary matchers)"
   ]
  },
  {
   "cell_type": "markdown",
   "metadata": {},
   "source": [
    "```\n",
    "^ (se dit caret en anglais, utilisé pour écrire les puissances en mathématiques, par exemple, 2^6) : Marque le début d'une ligne - Matches at the beginning of a line. ATTENTION, marque le début d'une ligne en dehors des crochets.\n",
    "$ : Marque la fin d'une ligne - Matches at the end of a line\n",
    "\\b : Délimiteur de mots - Matches a word boundary\n",
    "\\B : Correspond à tout ce qui n'est pas un délimiteur de mot - Matches the opposite of \\b. Anything that is not a word boundary\n",
    "\\A : Marque le début de l'entrée - Matches the beginning of the input\n",
    "\\Z : Marque la fin de l'entrée - Matches the end of the input\n",
    "```"
   ]
  },
  {
   "cell_type": "markdown",
   "metadata": {},
   "source": [
    "### On revient sur l'exemple de la rue Mimosas et on remplace le \\n par \\$"
   ]
  },
  {
   "cell_type": "code",
   "execution_count": 81,
   "metadata": {},
   "outputs": [],
   "source": [
    "texte <- \"20 rue des Mimosas\n",
    "36 allée des Mimosas fleuris\n",
    "56 avenue des Acacias\n",
    "15 rue des Mimosas\""
   ]
  },
  {
   "cell_type": "code",
   "execution_count": 82,
   "metadata": {},
   "outputs": [],
   "source": [
    "regex <- \"Mimosas$\""
   ]
  },
  {
   "cell_type": "code",
   "execution_count": 83,
   "metadata": {},
   "outputs": [
    {
     "name": "stdout",
     "output_type": "stream",
     "text": [
      "[1] \"20 rue des Mimosas\\n36 allée des Mimosas fleuris\\n56 avenue des Acacias\\n15 rue des Mimosas\"\n"
     ]
    }
   ],
   "source": [
    "print(texte)"
   ]
  },
  {
   "cell_type": "code",
   "execution_count": 84,
   "metadata": {},
   "outputs": [
    {
     "name": "stdout",
     "output_type": "stream",
     "text": [
      "[1] \"Mimosas$\"\n"
     ]
    }
   ],
   "source": [
    "print(regex)"
   ]
  },
  {
   "cell_type": "code",
   "execution_count": 85,
   "metadata": {},
   "outputs": [
    {
     "data": {
      "text/html": [
       "<ol>\n",
       "\t<li>'Mimosas'</li>\n",
       "</ol>\n"
      ],
      "text/latex": [
       "\\begin{enumerate}\n",
       "\\item 'Mimosas'\n",
       "\\end{enumerate}\n"
      ],
      "text/markdown": [
       "1. 'Mimosas'\n",
       "\n",
       "\n"
      ],
      "text/plain": [
       "[[1]]\n",
       "[1] \"Mimosas\"\n"
      ]
     },
     "metadata": {},
     "output_type": "display_data"
    }
   ],
   "source": [
    "regmatches(texte, gregexpr(regex, texte))"
   ]
  },
  {
   "cell_type": "markdown",
   "metadata": {},
   "source": [
    "### Pour distinguer ^ et \\A"
   ]
  },
  {
   "cell_type": "code",
   "execution_count": 187,
   "metadata": {},
   "outputs": [],
   "source": [
    "texte <- \"la voiture verte\n",
    "la carotte rouge\n",
    "la robe bleue\""
   ]
  },
  {
   "cell_type": "code",
   "execution_count": 188,
   "metadata": {},
   "outputs": [],
   "source": [
    "regex <- \"^la\""
   ]
  },
  {
   "cell_type": "code",
   "execution_count": 189,
   "metadata": {},
   "outputs": [
    {
     "name": "stdout",
     "output_type": "stream",
     "text": [
      "[1] \"la voiture verte\\nla carotte rouge\\nla robe bleue\"\n"
     ]
    }
   ],
   "source": [
    "print(texte)"
   ]
  },
  {
   "cell_type": "code",
   "execution_count": 190,
   "metadata": {},
   "outputs": [
    {
     "name": "stdout",
     "output_type": "stream",
     "text": [
      "[1] \"^la\"\n"
     ]
    }
   ],
   "source": [
    "print(regex)"
   ]
  },
  {
   "cell_type": "code",
   "execution_count": 191,
   "metadata": {},
   "outputs": [
    {
     "data": {
      "text/html": [
       "<ol>\n",
       "\t<li>'la'</li>\n",
       "</ol>\n"
      ],
      "text/latex": [
       "\\begin{enumerate}\n",
       "\\item 'la'\n",
       "\\end{enumerate}\n"
      ],
      "text/markdown": [
       "1. 'la'\n",
       "\n",
       "\n"
      ],
      "text/plain": [
       "[[1]]\n",
       "[1] \"la\"\n"
      ]
     },
     "metadata": {},
     "output_type": "display_data"
    }
   ],
   "source": [
    "regmatches(texte, gregexpr(regex, texte))"
   ]
  },
  {
   "cell_type": "code",
   "execution_count": 192,
   "metadata": {},
   "outputs": [],
   "source": [
    "texte <- \"la voiture verte\n",
    "la carotte rouge\n",
    "la robe bleue\""
   ]
  },
  {
   "cell_type": "code",
   "execution_count": 193,
   "metadata": {},
   "outputs": [],
   "source": [
    "regex <- \"\\\\Ala\""
   ]
  },
  {
   "cell_type": "code",
   "execution_count": 194,
   "metadata": {},
   "outputs": [
    {
     "name": "stdout",
     "output_type": "stream",
     "text": [
      "[1] \"la voiture verte\\nla carotte rouge\\nla robe bleue\"\n"
     ]
    }
   ],
   "source": [
    "print(texte)"
   ]
  },
  {
   "cell_type": "code",
   "execution_count": 195,
   "metadata": {},
   "outputs": [
    {
     "name": "stdout",
     "output_type": "stream",
     "text": [
      "[1] \"\\\\Ala\"\n"
     ]
    }
   ],
   "source": [
    "print(regex)"
   ]
  },
  {
   "cell_type": "code",
   "execution_count": 196,
   "metadata": {},
   "outputs": [
    {
     "data": {
      "text/html": [
       "<ol>\n",
       "\t<li></li>\n",
       "</ol>\n"
      ],
      "text/latex": [
       "\\begin{enumerate}\n",
       "\\item \n",
       "\\end{enumerate}\n"
      ],
      "text/markdown": [
       "1. \n",
       "\n",
       "\n"
      ],
      "text/plain": [
       "[[1]]\n",
       "character(0)\n"
      ]
     },
     "metadata": {},
     "output_type": "display_data"
    }
   ],
   "source": [
    "regmatches(texte, gregexpr(regex, texte, perl = TRUE))"
   ]
  },
  {
   "cell_type": "markdown",
   "metadata": {},
   "source": [
    "### R ne fait pas la distinction entre les deux. C'est lié à la façon dont le programme gère les chaînes de caractères..."
   ]
  },
  {
   "cell_type": "markdown",
   "metadata": {},
   "source": [
    "### Récupération de \"arche\" sans utilisation de \\b"
   ]
  },
  {
   "cell_type": "code",
   "execution_count": 203,
   "metadata": {},
   "outputs": [],
   "source": [
    "texte <- \"L'archer Balthazar sortit son violon et son archet sur le pont de l'arche de Noé quand les animaux arrivèrent avec une démarche cadencée.\""
   ]
  },
  {
   "cell_type": "code",
   "execution_count": 204,
   "metadata": {},
   "outputs": [],
   "source": [
    "regex <- \"arche\""
   ]
  },
  {
   "cell_type": "code",
   "execution_count": 205,
   "metadata": {},
   "outputs": [
    {
     "name": "stdout",
     "output_type": "stream",
     "text": [
      "[1] \"L'archer Balthazar sortit son violon et son archet sur le pont de l'arche de Noé quand les animaux arrivèrent avec une démarche cadencée.\"\n"
     ]
    }
   ],
   "source": [
    "print(texte)"
   ]
  },
  {
   "cell_type": "code",
   "execution_count": 206,
   "metadata": {},
   "outputs": [
    {
     "name": "stdout",
     "output_type": "stream",
     "text": [
      "[1] \"arche\"\n"
     ]
    }
   ],
   "source": [
    "print(regex)"
   ]
  },
  {
   "cell_type": "code",
   "execution_count": 208,
   "metadata": {},
   "outputs": [
    {
     "data": {
      "text/html": [
       "<ol>\n",
       "\t<li><ol class=list-inline>\n",
       "\t<li>'arche'</li>\n",
       "\t<li>'arche'</li>\n",
       "\t<li>'arche'</li>\n",
       "\t<li>'arche'</li>\n",
       "</ol>\n",
       "</li>\n",
       "</ol>\n"
      ],
      "text/latex": [
       "\\begin{enumerate}\n",
       "\\item \\begin{enumerate*}\n",
       "\\item 'arche'\n",
       "\\item 'arche'\n",
       "\\item 'arche'\n",
       "\\item 'arche'\n",
       "\\end{enumerate*}\n",
       "\n",
       "\\end{enumerate}\n"
      ],
      "text/markdown": [
       "1. 1. 'arche'\n",
       "2. 'arche'\n",
       "3. 'arche'\n",
       "4. 'arche'\n",
       "\n",
       "\n",
       "\n",
       "\n",
       "\n"
      ],
      "text/plain": [
       "[[1]]\n",
       "[1] \"arche\" \"arche\" \"arche\" \"arche\"\n"
      ]
     },
     "metadata": {},
     "output_type": "display_data"
    }
   ],
   "source": [
    "regmatches(texte, gregexpr(regex, texte))"
   ]
  },
  {
   "cell_type": "markdown",
   "metadata": {},
   "source": [
    "### Avec \\b (noter que cette solution est à préférer à l'utilisation de \\s)"
   ]
  },
  {
   "cell_type": "code",
   "execution_count": 214,
   "metadata": {},
   "outputs": [],
   "source": [
    "texte <- \"L'archer Balthazar sortit son violon et son archet sur le pont de l'arche de Noé quand les animaux arrivèrent avec une démarche cadencée.\""
   ]
  },
  {
   "cell_type": "code",
   "execution_count": 215,
   "metadata": {},
   "outputs": [],
   "source": [
    "regex <- \"\\\\barche\\\\b\""
   ]
  },
  {
   "cell_type": "code",
   "execution_count": 216,
   "metadata": {},
   "outputs": [
    {
     "name": "stdout",
     "output_type": "stream",
     "text": [
      "[1] \"L'archer Balthazar sortit son violon et son archet sur le pont de l'arche de Noé quand les animaux arrivèrent avec une démarche cadencée.\"\n"
     ]
    }
   ],
   "source": [
    "print(texte)"
   ]
  },
  {
   "cell_type": "code",
   "execution_count": 217,
   "metadata": {},
   "outputs": [
    {
     "name": "stdout",
     "output_type": "stream",
     "text": [
      "[1] \"\\\\barche\\\\b\"\n"
     ]
    }
   ],
   "source": [
    "print(regex)"
   ]
  },
  {
   "cell_type": "code",
   "execution_count": 218,
   "metadata": {},
   "outputs": [
    {
     "data": {
      "text/html": [
       "<ol>\n",
       "\t<li>'arche'</li>\n",
       "</ol>\n"
      ],
      "text/latex": [
       "\\begin{enumerate}\n",
       "\\item 'arche'\n",
       "\\end{enumerate}\n"
      ],
      "text/markdown": [
       "1. 'arche'\n",
       "\n",
       "\n"
      ],
      "text/plain": [
       "[[1]]\n",
       "[1] \"arche\"\n"
      ]
     },
     "metadata": {},
     "output_type": "display_data"
    }
   ],
   "source": [
    "regmatches(texte, gregexpr(regex, texte))"
   ]
  },
  {
   "cell_type": "markdown",
   "metadata": {},
   "source": [
    "### Exemple d'utilisation de \\B pour récupérer des comptes Twitter dans des tweet :"
   ]
  },
  {
   "cell_type": "code",
   "execution_count": 219,
   "metadata": {},
   "outputs": [],
   "source": [
    "texte <- \"Merci trumuche@gmail.com Votre édito dans @Charlie_Hebdo_ est magnifique. Grave et juste, il est une réponse aux propos impardonnables de @edwyplenel.\""
   ]
  },
  {
   "cell_type": "code",
   "execution_count": 220,
   "metadata": {},
   "outputs": [],
   "source": [
    "regex <- \"\\\\B@\\\\w+\""
   ]
  },
  {
   "cell_type": "code",
   "execution_count": 221,
   "metadata": {},
   "outputs": [
    {
     "name": "stdout",
     "output_type": "stream",
     "text": [
      "[1] \"Merci trumuche@gmail.com Votre édito dans @Charlie_Hebdo_ est magnifique. Grave et juste, il est une réponse aux propos impardonnables de @edwyplenel.\"\n"
     ]
    }
   ],
   "source": [
    "print(texte)"
   ]
  },
  {
   "cell_type": "code",
   "execution_count": 222,
   "metadata": {},
   "outputs": [
    {
     "name": "stdout",
     "output_type": "stream",
     "text": [
      "[1] \"\\\\B@\\\\w+\"\n"
     ]
    }
   ],
   "source": [
    "print(regex)"
   ]
  },
  {
   "cell_type": "code",
   "execution_count": 223,
   "metadata": {},
   "outputs": [
    {
     "data": {
      "text/html": [
       "<ol>\n",
       "\t<li><ol class=list-inline>\n",
       "\t<li>'@Charlie_Hebdo_'</li>\n",
       "\t<li>'@edwyplenel'</li>\n",
       "</ol>\n",
       "</li>\n",
       "</ol>\n"
      ],
      "text/latex": [
       "\\begin{enumerate}\n",
       "\\item \\begin{enumerate*}\n",
       "\\item '@Charlie\\_Hebdo\\_'\n",
       "\\item '@edwyplenel'\n",
       "\\end{enumerate*}\n",
       "\n",
       "\\end{enumerate}\n"
      ],
      "text/markdown": [
       "1. 1. '@Charlie_Hebdo_'\n",
       "2. '@edwyplenel'\n",
       "\n",
       "\n",
       "\n",
       "\n",
       "\n"
      ],
      "text/plain": [
       "[[1]]\n",
       "[1] \"@Charlie_Hebdo_\" \"@edwyplenel\"    \n"
      ]
     },
     "metadata": {},
     "output_type": "display_data"
    }
   ],
   "source": [
    "regmatches(texte, gregexpr(regex, texte))"
   ]
  },
  {
   "cell_type": "markdown",
   "metadata": {},
   "source": [
    "### $ et ^ seront utilisés dans les exemples suivants..."
   ]
  },
  {
   "cell_type": "markdown",
   "metadata": {},
   "source": [
    "# Exemple d'utilisation des expressions régulières avec R"
   ]
  },
  {
   "cell_type": "markdown",
   "metadata": {},
   "source": [
    "### Ebook de référence -> http://www.gastonsanchez.com/Handling_and_Processing_Strings_in_R.pdf"
   ]
  },
  {
   "cell_type": "markdown",
   "metadata": {},
   "source": [
    "### On commence par importer la base (extrait de la base réelle) sur laquelle nous allons travailler, puis on affiche son contenu."
   ]
  },
  {
   "cell_type": "code",
   "execution_count": 5,
   "metadata": {},
   "outputs": [],
   "source": [
    "base.apogee <- read.csv(\"base.apogee.csv\")"
   ]
  },
  {
   "cell_type": "code",
   "execution_count": 6,
   "metadata": {},
   "outputs": [
    {
     "data": {
      "text/html": [
       "<table>\n",
       "<thead><tr><th scope=col>Individu</th><th scope=col>NationaliteOriginale</th></tr></thead>\n",
       "<tbody>\n",
       "\t<tr><td> 1           </td><td>FRANCAIS(E)  </td></tr>\n",
       "\t<tr><td> 2           </td><td>FRANCAIS(E)  </td></tr>\n",
       "\t<tr><td> 3           </td><td>FRANCAIS(E)  </td></tr>\n",
       "\t<tr><td> 4           </td><td>SENEGALAIS(E)</td></tr>\n",
       "\t<tr><td> 5           </td><td>FRANCAIS(E)  </td></tr>\n",
       "\t<tr><td> 6           </td><td>MAROCAIN(E)  </td></tr>\n",
       "\t<tr><td> 7           </td><td>FRANCAIS(E)  </td></tr>\n",
       "\t<tr><td> 8           </td><td>FRANCAIS(E)  </td></tr>\n",
       "\t<tr><td> 9           </td><td>FRANCAIS(E)  </td></tr>\n",
       "\t<tr><td>10           </td><td>BENINOIS(E)  </td></tr>\n",
       "</tbody>\n",
       "</table>\n"
      ],
      "text/latex": [
       "\\begin{tabular}{r|ll}\n",
       " Individu & NationaliteOriginale\\\\\n",
       "\\hline\n",
       "\t  1            & FRANCAIS(E)  \\\\\n",
       "\t  2            & FRANCAIS(E)  \\\\\n",
       "\t  3            & FRANCAIS(E)  \\\\\n",
       "\t  4            & SENEGALAIS(E)\\\\\n",
       "\t  5            & FRANCAIS(E)  \\\\\n",
       "\t  6            & MAROCAIN(E)  \\\\\n",
       "\t  7            & FRANCAIS(E)  \\\\\n",
       "\t  8            & FRANCAIS(E)  \\\\\n",
       "\t  9            & FRANCAIS(E)  \\\\\n",
       "\t 10            & BENINOIS(E)  \\\\\n",
       "\\end{tabular}\n"
      ],
      "text/markdown": [
       "\n",
       "Individu | NationaliteOriginale | \n",
       "|---|---|---|---|---|---|---|---|---|---|\n",
       "|  1            | FRANCAIS(E)   | \n",
       "|  2            | FRANCAIS(E)   | \n",
       "|  3            | FRANCAIS(E)   | \n",
       "|  4            | SENEGALAIS(E) | \n",
       "|  5            | FRANCAIS(E)   | \n",
       "|  6            | MAROCAIN(E)   | \n",
       "|  7            | FRANCAIS(E)   | \n",
       "|  8            | FRANCAIS(E)   | \n",
       "|  9            | FRANCAIS(E)   | \n",
       "| 10            | BENINOIS(E)   | \n",
       "\n",
       "\n"
      ],
      "text/plain": [
       "   Individu NationaliteOriginale\n",
       "1   1       FRANCAIS(E)         \n",
       "2   2       FRANCAIS(E)         \n",
       "3   3       FRANCAIS(E)         \n",
       "4   4       SENEGALAIS(E)       \n",
       "5   5       FRANCAIS(E)         \n",
       "6   6       MAROCAIN(E)         \n",
       "7   7       FRANCAIS(E)         \n",
       "8   8       FRANCAIS(E)         \n",
       "9   9       FRANCAIS(E)         \n",
       "10 10       BENINOIS(E)         "
      ]
     },
     "metadata": {},
     "output_type": "display_data"
    }
   ],
   "source": [
    "base.apogee"
   ]
  },
  {
   "cell_type": "code",
   "execution_count": 7,
   "metadata": {},
   "outputs": [
    {
     "data": {
      "text/plain": [
       "\n",
       "  BENINOIS(E)   FRANCAIS(E)   MAROCAIN(E) SENEGALAIS(E) \n",
       "            1             7             1             1 "
      ]
     },
     "metadata": {},
     "output_type": "display_data"
    }
   ],
   "source": [
    "table(base.apogee$NationaliteOriginale)"
   ]
  },
  {
   "cell_type": "markdown",
   "metadata": {},
   "source": [
    "### Le script ci-dessous est extrait d'un script ayant permis de générer un fichier contenant des informations sur la population étudiante de l'Université de Bretagne Occidentale. Comme vous pouvez le voir, il a été produit à partir de la base Apogée de l'UBO, qui est la base de gestion des inscriptions et des dossiers des étudiant.e.s. Le problème à résoudre était le suivant : il fallait générer un fichier, une base de données plus simple que la base Apogée, avec des recodages par niveaux d'études allant de la première année jusqu'au doctorat (L1, ..., doctorat) par exemple, afin de calculer des pondérations. La base Apogée contient des données sur les niveaux d'études sous la forme affichée ci-dessus. Il fallait donc trouver un moyen de convertir une multitude de dénominations possibles en une seule. Les expressions régulières étaient la solution."
   ]
  },
  {
   "cell_type": "code",
   "execution_count": 8,
   "metadata": {},
   "outputs": [],
   "source": [
    "base.apogee$Nationalite <- gsub(\"^(?!FRANCAIS\\\\(E\\\\)).*$\", \"ETRANGER(E)\", perl = TRUE, base.apogee$NationaliteOriginale)"
   ]
  },
  {
   "cell_type": "markdown",
   "metadata": {},
   "source": [
    "### Ce script signifie que l'on va réaliser une opération vers la base \"base.apogee\", la base que nous devions traiter (je ne rentrerai pas dans les détails, je vais me concentrer ici sur l'usage des expressions régulières), en particulier sa variable \"Nationalite\". Avant de voir quelle opération nous avons réalisé vers cette variable, il faut préciser ce que l'on cherchait à faire...\n",
    "\n",
    "### Chaque étudiant.e avait une nationalité précisée, française, sénégalaise, anglaise, etc. Il fallait recoder ces données en deux catégories : nationalité française et nationalité étrangère. Le <- signifie que l'on va réaliser vers cette variable l'opération située à droite. La fonction gsub permet de remplacer toutes les occurrences trouvées par l'expression régulière. Nous allons la décomposer.\n",
    "\n",
    "### ^ marque le début de ligne. Nous cherchons donc toutes les valeurs de la variable \"Nationalite\" qui commence par ce qui est affiché après le ^.\n",
    "\n",
    "### Les parenthèses signifient que l'on recherche un ensemble de caractères, d'expressions, etc...\n",
    "\n",
    "### Il est évident que si l'on travaille des chaînes de caractères, on va un jour ou l'autre y trouver des parenthèses. Les expressions régulières peuvent les traiter, bien entendu. Il suffit de mettre un ou deux \\ devant le caractère que l'on souhaite traiter en tant que tel, en tant que parenthèse, et non en tant qu'expression régulière signifiant, pour (, début d'un ensemble, et pour ), fin d'un ensemble. Sous Python par exemple, il suffit d'un \\. Mais sous R, il en faut deux \\\\..."
   ]
  },
  {
   "cell_type": "markdown",
   "metadata": {},
   "source": [
    "^(?!FRANCAIS\\\\(E\\\\)).*$ | ETRANGER(E)"
   ]
  },
  {
   "cell_type": "markdown",
   "metadata": {},
   "source": [
    "### Revenons donc à notre expression.  L'expression ?! permet de trouver les occurrences qui ne correspondent pas à FRANCAIS(E), c'est-à-dire les nationalités étrangères en ce qui nous concerne. L'expression (?!XXX) signifie donc \"tout ce qui n'est pas XXX\". En anglais, cette opération s'appelle un \"negative lookahead\".\n",
    "\n",
    "### Que signifient les trois caractères à la fin de l'expression ?\n",
    "\n",
    "### Le point signifie \"tout caractère, excepté une fin de ligne\". L'étoile signifie \"de zéro à un nombre infini de fois\", et s'applique à l'expression précédente. Enfin, le dollar désigne une fin de chaîne de caractère. Cet ensemble signifie donc que l'on cherche des expressions qui se finissent par de zéro à un nombre infini de tout caractère, excepté une fin de ligne. Cet ensemble permet de prendre en compte les valeurs de la variables \"Nationalite\" qui n'auraient pas été nettoyées : des espaces ou des points qui suivraient la chaîne qui, dans notre cas, ne correspond pas à FRANCAIS(E). C'est simplement par sécurité que j'ai rajouté ces trois derniers caractères dans l'expression : sur 20000 valeurs, rien ne garantit qu'il n'y en ait pas qui ne soient pas nettoyées...  On remarquera que cette simple expression, peut être réutilisée dans d'autres cas..."
   ]
  },
  {
   "cell_type": "code",
   "execution_count": null,
   "metadata": {},
   "outputs": [],
   "source": [
    "base.apogee$Nationalite <- gsub(\"^(?!FRANCAIS\\\\(E\\\\)).*$\", \"ETRANGER(E)\", perl = TRUE, base.apogee$NationaliteOriginale)"
   ]
  },
  {
   "cell_type": "markdown",
   "metadata": {},
   "source": [
    "### Mais, vous l'avez peut-être remarqué, il reste des éléments après notre expression... Pour le moment nous n'avons demandé à R que de trouver une expression particulière. Ce qui suit la virgule, \"ETRANGER(E)\", est ce par quoi nous allons remplacer la chaîne de caractère si elle \"matche\" l'expression, si elle correspond à l'expression. En résumé, notre fonction gsub et notre expression régulière dit : \"Dans la variable \"Nationalite\" de la base \"base.apogee\", remplacer tout ce qui n'est pas \"FRANCAIS(E)\" par \"ETRANGER(E)\". La suite de notre commande, perl = TRUE, signifie que nous utiliserons des expressions régulières tirées du langage de programmation Perl, spécialisé dans le traitement des données textuelles mais de moins en moins utilisée aujourd'hui, vu la complexité de sa syntaxe, qui ressemble en réalité aux expressions régulières sur lesquelles il est basé. Bref...\n",
    "\n",
    "### Enfin, la variable située à droite est la variable source, les valeurs à partir desquelles on va pouvoir aboutir à notre variable \"Nationalites\" avec deux catégories.\n",
    "\n",
    "### C'était donc un exemple de ce que permettent les expressions régulières, et de comment R permet de s'en servir. Vous avez sans doute, en me voyant décrypter l'expression utilisée, pensé aux usages que vous pourriez vous-même en faire... Les possibilités sont infinies."
   ]
  },
  {
   "cell_type": "code",
   "execution_count": 10,
   "metadata": {},
   "outputs": [
    {
     "data": {
      "text/html": [
       "<table>\n",
       "<thead><tr><th scope=col>Individu</th><th scope=col>NationaliteOriginale</th><th scope=col>Nationalite</th></tr></thead>\n",
       "<tbody>\n",
       "\t<tr><td> 1           </td><td>FRANCAIS(E)  </td><td>FRANCAIS(E)  </td></tr>\n",
       "\t<tr><td> 2           </td><td>FRANCAIS(E)  </td><td>FRANCAIS(E)  </td></tr>\n",
       "\t<tr><td> 3           </td><td>FRANCAIS(E)  </td><td>FRANCAIS(E)  </td></tr>\n",
       "\t<tr><td> 4           </td><td>SENEGALAIS(E)</td><td>ETRANGER(E)  </td></tr>\n",
       "\t<tr><td> 5           </td><td>FRANCAIS(E)  </td><td>FRANCAIS(E)  </td></tr>\n",
       "\t<tr><td> 6           </td><td>MAROCAIN(E)  </td><td>ETRANGER(E)  </td></tr>\n",
       "\t<tr><td> 7           </td><td>FRANCAIS(E)  </td><td>FRANCAIS(E)  </td></tr>\n",
       "\t<tr><td> 8           </td><td>FRANCAIS(E)  </td><td>FRANCAIS(E)  </td></tr>\n",
       "\t<tr><td> 9           </td><td>FRANCAIS(E)  </td><td>FRANCAIS(E)  </td></tr>\n",
       "\t<tr><td>10           </td><td>BENINOIS(E)  </td><td>ETRANGER(E)  </td></tr>\n",
       "</tbody>\n",
       "</table>\n"
      ],
      "text/latex": [
       "\\begin{tabular}{r|lll}\n",
       " Individu & NationaliteOriginale & Nationalite\\\\\n",
       "\\hline\n",
       "\t  1            & FRANCAIS(E)   & FRANCAIS(E)  \\\\\n",
       "\t  2            & FRANCAIS(E)   & FRANCAIS(E)  \\\\\n",
       "\t  3            & FRANCAIS(E)   & FRANCAIS(E)  \\\\\n",
       "\t  4            & SENEGALAIS(E) & ETRANGER(E)  \\\\\n",
       "\t  5            & FRANCAIS(E)   & FRANCAIS(E)  \\\\\n",
       "\t  6            & MAROCAIN(E)   & ETRANGER(E)  \\\\\n",
       "\t  7            & FRANCAIS(E)   & FRANCAIS(E)  \\\\\n",
       "\t  8            & FRANCAIS(E)   & FRANCAIS(E)  \\\\\n",
       "\t  9            & FRANCAIS(E)   & FRANCAIS(E)  \\\\\n",
       "\t 10            & BENINOIS(E)   & ETRANGER(E)  \\\\\n",
       "\\end{tabular}\n"
      ],
      "text/markdown": [
       "\n",
       "Individu | NationaliteOriginale | Nationalite | \n",
       "|---|---|---|---|---|---|---|---|---|---|\n",
       "|  1            | FRANCAIS(E)   | FRANCAIS(E)   | \n",
       "|  2            | FRANCAIS(E)   | FRANCAIS(E)   | \n",
       "|  3            | FRANCAIS(E)   | FRANCAIS(E)   | \n",
       "|  4            | SENEGALAIS(E) | ETRANGER(E)   | \n",
       "|  5            | FRANCAIS(E)   | FRANCAIS(E)   | \n",
       "|  6            | MAROCAIN(E)   | ETRANGER(E)   | \n",
       "|  7            | FRANCAIS(E)   | FRANCAIS(E)   | \n",
       "|  8            | FRANCAIS(E)   | FRANCAIS(E)   | \n",
       "|  9            | FRANCAIS(E)   | FRANCAIS(E)   | \n",
       "| 10            | BENINOIS(E)   | ETRANGER(E)   | \n",
       "\n",
       "\n"
      ],
      "text/plain": [
       "   Individu NationaliteOriginale Nationalite\n",
       "1   1       FRANCAIS(E)          FRANCAIS(E)\n",
       "2   2       FRANCAIS(E)          FRANCAIS(E)\n",
       "3   3       FRANCAIS(E)          FRANCAIS(E)\n",
       "4   4       SENEGALAIS(E)        ETRANGER(E)\n",
       "5   5       FRANCAIS(E)          FRANCAIS(E)\n",
       "6   6       MAROCAIN(E)          ETRANGER(E)\n",
       "7   7       FRANCAIS(E)          FRANCAIS(E)\n",
       "8   8       FRANCAIS(E)          FRANCAIS(E)\n",
       "9   9       FRANCAIS(E)          FRANCAIS(E)\n",
       "10 10       BENINOIS(E)          ETRANGER(E)"
      ]
     },
     "metadata": {},
     "output_type": "display_data"
    }
   ],
   "source": [
    "base.apogee"
   ]
  }
 ],
 "metadata": {
  "kernelspec": {
   "display_name": "R",
   "language": "R",
   "name": "ir"
  },
  "language_info": {
   "codemirror_mode": "r",
   "file_extension": ".r",
   "mimetype": "text/x-r-source",
   "name": "R",
   "pygments_lexer": "r",
   "version": "3.4.2"
  }
 },
 "nbformat": 4,
 "nbformat_minor": 2
}
